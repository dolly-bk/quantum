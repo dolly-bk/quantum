{
 "cells": [
  {
   "cell_type": "code",
   "execution_count": 19,
   "id": "41ce59c7",
   "metadata": {},
   "outputs": [
    {
     "name": "stdout",
     "output_type": "stream",
     "text": [
      "[[0.0000000e+00 2.0000000e+02 5.2500000e-01 ... 2.0000000e+02\n",
      "  2.0000000e+02 2.0000000e+02]\n",
      " [2.0000000e+02 0.0000000e+00 2.7600000e+01 ... 2.0000000e+02\n",
      "  2.0000000e+02 2.0000000e+02]\n",
      " [5.2500000e-01 2.7600000e+01 0.0000000e+00 ... 2.0000000e+02\n",
      "  2.0000000e+02 2.0000000e+02]\n",
      " ...\n",
      " [2.0000000e+02 2.0000000e+02 2.0000000e+02 ... 0.0000000e+00\n",
      "  2.5000006e-01 4.0000007e-01]\n",
      " [2.0000000e+02 2.0000000e+02 2.0000000e+02 ... 2.5000006e-01\n",
      "  0.0000000e+00 1.5000000e-01]\n",
      " [2.0000000e+02 2.0000000e+02 2.0000000e+02 ... 4.0000007e-01\n",
      "  1.5000000e-01 0.0000000e+00]]\n"
     ]
    }
   ],
   "source": [
    "import numpy as np\n",
    "import networkx as nx\n",
    "import matplotlib.pyplot as plt\n",
    "data_path = \"../my_tests/load1.csv\"\n",
    "data = np.genfromtxt(data_path, delimiter=';')\n",
    "print(data)"
   ]
  },
  {
   "cell_type": "code",
   "execution_count": 41,
   "id": "d2f662de",
   "metadata": {},
   "outputs": [
    {
     "name": "stdout",
     "output_type": "stream",
     "text": [
      "graph_attr_dict_factory : <class 'dict'>\n",
      "node_dict_factory : <class 'dict'>\n",
      "node_attr_dict_factory : <class 'dict'>\n",
      "adjlist_outer_dict_factory : <class 'dict'>\n",
      "adjlist_inner_dict_factory : <class 'dict'>\n",
      "edge_attr_dict_factory : <class 'dict'>\n",
      "graph : {}\n",
      "_node : {0: {}, 1: {}, 2: {}, 3: {}}\n",
      "_adj : {0: {1: {'weight': 200.0}, 2: {'weight': 0.525}, 3: {'weight': 0.525}}, 1: {0: {'weight': 200.0}, 2: {'weight': 27.6}, 3: {'weight': 27.6}}, 2: {0: {'weight': 0.525}, 1: {'weight': 27.6}, 3: {'weight': 0.0}}, 3: {0: {'weight': 0.525}, 1: {'weight': 27.6}, 2: {'weight': 0.0}}}\n"
     ]
    }
   ],
   "source": [
    "n=4\n",
    "G=nx.complete_graph(n)\n",
    "#for i in range (n):\n",
    "#    for j in range (i, n-1):\n",
    "for (i, j,_) in G.edges(data=True):\n",
    "    G.add_weighted_edges_from({(i,j,data[i][j])})\n",
    "temp = vars(G)        \n",
    "for item in temp:\n",
    "    print(item, \":\", temp[item])"
   ]
  },
  {
   "cell_type": "code",
   "execution_count": 42,
   "id": "b73dfb2c",
   "metadata": {},
   "outputs": [
    {
     "name": "stdout",
     "output_type": "stream",
     "text": [
      "{0: array([-0.07472251, -0.58720803]), 1: array([-0.01583106, -0.10422463]), 2: array([1.        , 0.20601844]), 3: array([-0.90944643,  0.48541421])}\n"
     ]
    },
    {
     "data": {
      "image/png": "[encoded data removed]",
      "text/plain": [
       "<Figure size 432x288 with 1 Axes>"
      ]
     },
     "metadata": {},
     "output_type": "display_data"
    }
   ],
   "source": [
    "pos = nx.spring_layout(G)\n",
    "print(pos)\n",
    "nx.draw(G, pos, with_labels=True)\n",
    "labels = nx.get_edge_attributes(G, 'weight')\n",
    "#labels = {e: str(e) for e in G.edges}\n",
    "nx.draw_networkx_edge_labels(G, pos, edge_labels=labels)\n",
    "plt.show()"
   ]
  },
  {
   "cell_type": "code",
   "execution_count": 43,
   "id": "ce6e26d1",
   "metadata": {},
   "outputs": [
    {
     "name": "stdout",
     "output_type": "stream",
     "text": [
      "6\n"
     ]
    }
   ],
   "source": [
    "import dimod\n",
    "import dwave_networkx as dnx\n",
    "from dwave_networkx.utils import binary_quadratic_model_sampler\n",
    "\n",
    "__all__ = [\"traveling_salesperson\",\n",
    "           \"traveling_salesperson_qubo\",\n",
    "           \"traveling_salesman\",\n",
    "           \"traveling_salesman_qubo\",\n",
    "           \"is_hamiltonian_path\",\n",
    "           ]\n",
    "print(len(G.edges))"
   ]
  },
  {
   "cell_type": "code",
   "execution_count": 46,
   "id": "6bbb921b",
   "metadata": {},
   "outputs": [],
   "source": [
    "\n",
    "answer = dnx.traveling_salesperson(G, dimod.ExactSolver(), start=3)"
   ]
  },
  {
   "cell_type": "code",
   "execution_count": 50,
   "id": "d459e8fc",
   "metadata": {},
   "outputs": [
    {
     "name": "stdout",
     "output_type": "stream",
     "text": [
      "[3, 0, 2, 1]\n"
     ]
    }
   ],
   "source": [
    "print(answer)"
   ]
  },
  {
   "cell_type": "code",
   "execution_count": 52,
   "id": "2663265b",
   "metadata": {},
   "outputs": [
    {
     "name": "stdout",
     "output_type": "stream",
     "text": [
      "[3, 3, 0, 2]\n"
     ]
    }
   ],
   "source": [
    "from dwave.system.samplers import DWaveSampler\n",
    "from dwave.system.composites import EmbeddingComposite\n",
    "answer_d = dnx.traveling_salesperson(G, EmbeddingComposite(DWaveSampler()), start=3)\n",
    "print(answer_d)"
   ]
  },
  {
   "cell_type": "code",
   "execution_count": 53,
   "id": "835a62f5",
   "metadata": {},
   "outputs": [],
   "source": [
    "def is_hamiltonian_path(G, route):\n",
    "    \"\"\"Determines whether the given list forms a valid TSP route.\n",
    "\n",
    "    A travelling salesperson route must visit each city exactly once.\n",
    "\n",
    "    Parameters\n",
    "    ----------\n",
    "    G : NetworkX graph\n",
    "\n",
    "        The graph on which to check the route.\n",
    "\n",
    "    route : list\n",
    "\n",
    "        List of nodes in the order that they are visited.\n",
    "\n",
    "    Returns\n",
    "    -------\n",
    "    is_valid : bool\n",
    "        True if route forms a valid travelling salesperson route.\n",
    "\n",
    "    \"\"\"\n",
    "\n",
    "    return (set(route) == set(G))"
   ]
  },
  {
   "cell_type": "code",
   "execution_count": 56,
   "id": "f9793271",
   "metadata": {},
   "outputs": [
    {
     "name": "stdout",
     "output_type": "stream",
     "text": [
      "False\n"
     ]
    }
   ],
   "source": [
    "print (is_hamiltonian_path(answer_d, G))"
   ]
  },
  {
   "cell_type": "code",
   "execution_count": 58,
   "id": "6f9ba615",
   "metadata": {},
   "outputs": [
    {
     "name": "stdout",
     "output_type": "stream",
     "text": [
      "[0, 2, 1, 3] True\n"
     ]
    }
   ],
   "source": [
    "i == 0\n",
    "for i in range(5):\n",
    "    answer_d = dnx.traveling_salesperson(G, EmbeddingComposite(DWaveSampler()), start=0)\n",
    "    print (answer_d, is_hamiltonian_path(answer_d, G))\n",
    "    if is_hamiltonian_path(answer_d, G):\n",
    "        break\n",
    "    i+=1    "
   ]
  },
  {
   "cell_type": "code",
   "execution_count": null,
   "id": "a3ac33c9",
   "metadata": {},
   "outputs": [],
   "source": []
  }
 ],
 "metadata": {
  "kernelspec": {
   "display_name": "Python 3 (ipykernel)",
   "language": "python",
   "name": "python3"
  },
  "language_info": {
   "codemirror_mode": {
    "name": "ipython",
    "version": 3
   },
   "file_extension": ".py",
   "mimetype": "text/x-python",
   "name": "python",
   "nbconvert_exporter": "python",
   "pygments_lexer": "ipython3",
   "version": "3.8.3"
  }
 },
 "nbformat": 4,
 "nbformat_minor": 5
}
